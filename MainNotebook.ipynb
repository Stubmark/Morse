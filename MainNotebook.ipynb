{
 "cells": [
  {
   "cell_type": "code",
   "execution_count": 43,
   "source": [
    "%reload_ext autoreload\r\n",
    "import nbimporter\r\n",
    "from pythonScripts import configuration\r\n",
    "\r\n",
    "new = configuration.configuration()"
   ],
   "outputs": [
    {
     "output_type": "stream",
     "name": "stdout",
     "text": [
      "hello from configuration script file\n"
     ]
    }
   ],
   "metadata": {}
  }
 ],
 "metadata": {
  "orig_nbformat": 4,
  "language_info": {
   "name": "python",
   "version": "3.8.10",
   "mimetype": "text/x-python",
   "codemirror_mode": {
    "name": "ipython",
    "version": 3
   },
   "pygments_lexer": "ipython3",
   "nbconvert_exporter": "python",
   "file_extension": ".py"
  },
  "kernelspec": {
   "name": "python3",
   "display_name": "Python 3.8.10 64-bit ('fastai_v1': conda)"
  },
  "interpreter": {
   "hash": "0308564648d0fb8c5277da4c87e5a38bcbf9fc60ff3fd7201abde1cd3f3680b2"
  }
 },
 "nbformat": 4,
 "nbformat_minor": 2
}